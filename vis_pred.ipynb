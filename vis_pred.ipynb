{
 "cells": [
  {
   "cell_type": "code",
   "execution_count": 1,
   "metadata": {},
   "outputs": [
    {
     "data": {
      "text/html": [
       "<div>\n",
       "<style scoped>\n",
       "    .dataframe tbody tr th:only-of-type {\n",
       "        vertical-align: middle;\n",
       "    }\n",
       "\n",
       "    .dataframe tbody tr th {\n",
       "        vertical-align: top;\n",
       "    }\n",
       "\n",
       "    .dataframe thead th {\n",
       "        text-align: right;\n",
       "    }\n",
       "</style>\n",
       "<table border=\"1\" class=\"dataframe\">\n",
       "  <thead>\n",
       "    <tr style=\"text-align: right;\">\n",
       "      <th></th>\n",
       "      <th>FunctionalFunctional_MAE</th>\n",
       "      <th>FTSA_MAE</th>\n",
       "      <th>TSA_MAE</th>\n",
       "      <th>FunctionalFunctional_MSE</th>\n",
       "      <th>FTSA_MSE</th>\n",
       "      <th>TSA_MSE</th>\n",
       "    </tr>\n",
       "  </thead>\n",
       "  <tbody>\n",
       "    <tr>\n",
       "      <th>0</th>\n",
       "      <td>41.330663</td>\n",
       "      <td>41.330663</td>\n",
       "      <td>25.633014</td>\n",
       "      <td>2026.725558</td>\n",
       "      <td>2033.305013</td>\n",
       "      <td>903.575419</td>\n",
       "    </tr>\n",
       "    <tr>\n",
       "      <th>1</th>\n",
       "      <td>19.814878</td>\n",
       "      <td>20.009874</td>\n",
       "      <td>43.037411</td>\n",
       "      <td>580.873606</td>\n",
       "      <td>601.116662</td>\n",
       "      <td>2193.539156</td>\n",
       "    </tr>\n",
       "    <tr>\n",
       "      <th>2</th>\n",
       "      <td>18.069664</td>\n",
       "      <td>17.932253</td>\n",
       "      <td>67.071232</td>\n",
       "      <td>516.999560</td>\n",
       "      <td>516.568612</td>\n",
       "      <td>4786.897733</td>\n",
       "    </tr>\n",
       "    <tr>\n",
       "      <th>3</th>\n",
       "      <td>22.329943</td>\n",
       "      <td>22.329943</td>\n",
       "      <td>84.638214</td>\n",
       "      <td>595.997835</td>\n",
       "      <td>601.224841</td>\n",
       "      <td>7267.140156</td>\n",
       "    </tr>\n",
       "    <tr>\n",
       "      <th>4</th>\n",
       "      <td>16.094677</td>\n",
       "      <td>16.032663</td>\n",
       "      <td>86.411588</td>\n",
       "      <td>312.711286</td>\n",
       "      <td>319.922937</td>\n",
       "      <td>7611.609747</td>\n",
       "    </tr>\n",
       "  </tbody>\n",
       "</table>\n",
       "</div>"
      ],
      "text/plain": [
       "   FunctionalFunctional_MAE   FTSA_MAE    TSA_MAE  FunctionalFunctional_MSE  \\\n",
       "0                 41.330663  41.330663  25.633014               2026.725558   \n",
       "1                 19.814878  20.009874  43.037411                580.873606   \n",
       "2                 18.069664  17.932253  67.071232                516.999560   \n",
       "3                 22.329943  22.329943  84.638214                595.997835   \n",
       "4                 16.094677  16.032663  86.411588                312.711286   \n",
       "\n",
       "      FTSA_MSE      TSA_MSE  \n",
       "0  2033.305013   903.575419  \n",
       "1   601.116662  2193.539156  \n",
       "2   516.568612  4786.897733  \n",
       "3   601.224841  7267.140156  \n",
       "4   319.922937  7611.609747  "
      ]
     },
     "execution_count": 1,
     "metadata": {},
     "output_type": "execute_result"
    }
   ],
   "source": [
    "import pandas as pd\n",
    "import matplotlib.pyplot as plt\n",
    "\n",
    "df = pd.read_csv('compiled_error_forecasts.csv')\n",
    "\n",
    "df.head()"
   ]
  },
  {
   "cell_type": "code",
   "execution_count": 2,
   "metadata": {},
   "outputs": [
    {
     "data": {
      "image/png": "[encoded data removed]",
      "text/plain": [
       "<Figure size 640x480 with 1 Axes>"
      ]
     },
     "metadata": {},
     "output_type": "display_data"
    }
   ],
   "source": [
    "# create boxplot for mae and mse\n",
    "df_MAE = df[['FunctionalFunctional_MAE', 'FTSA_MAE', 'TSA_MAE']]\n",
    "df_MAE.columns = ['Function to Function', 'FPCR', 'SARIMA']\n",
    "df_MAE.boxplot(column= ['Function to Function', 'FPCR', 'SARIMA'], grid=False)\n",
    "# plt.show()\n",
    "\n",
    "# save boxplot\n",
    "plt.savefig('boxplot_MAPE.png')"
   ]
  },
  {
   "cell_type": "code",
   "execution_count": 3,
   "metadata": {},
   "outputs": [],
   "source": [
    "# create boxplot for mae and mse\n",
    "df_MSE = df[['FunctionalFunctional_MSE', 'FTSA_MSE', 'TSA_MSE']]\n",
    "df_MSE.columns = ['Function to Function', 'FPCR', 'SARIMA']\n",
    "df_MSE.boxplot(column= ['Function to Function', 'FPCR', 'SARIMA'], grid=False)\n",
    "# plt.show()\n",
    "\n",
    "# save boxplot\n",
    "plt.savefig('boxplot_MSPE.png')"
   ]
  }
 ],
 "metadata": {
  "kernelspec": {
   "display_name": "Python 3",
   "language": "python",
   "name": "python3"
  },
  "language_info": {
   "codemirror_mode": {
    "name": "ipython",
    "version": 3
   },
   "file_extension": ".py",
   "mimetype": "text/x-python",
   "name": "python",
   "nbconvert_exporter": "python",
   "pygments_lexer": "ipython3",
   "version": "3.9.6"
  }
 },
 "nbformat": 4,
 "nbformat_minor": 2
}
