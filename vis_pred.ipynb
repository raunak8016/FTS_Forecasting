{
 "cells": [
  {
   "cell_type": "code",
   "execution_count": 1,
   "metadata": {},
   "outputs": [
    {
     "data": {
      "text/html": [
       "<div>\n",
       "<style scoped>\n",
       "    .dataframe tbody tr th:only-of-type {\n",
       "        vertical-align: middle;\n",
       "    }\n",
       "\n",
       "    .dataframe tbody tr th {\n",
       "        vertical-align: top;\n",
       "    }\n",
       "\n",
       "    .dataframe thead th {\n",
       "        text-align: right;\n",
       "    }\n",
       "</style>\n",
       "<table border=\"1\" class=\"dataframe\">\n",
       "  <thead>\n",
       "    <tr style=\"text-align: right;\">\n",
       "      <th></th>\n",
       "      <th>FunctionalFunctional_MAE</th>\n",
       "      <th>FTSA_MAE</th>\n",
       "      <th>TSA_MAE</th>\n",
       "      <th>FunctionalFunctional_MSE</th>\n",
       "      <th>FTSA_MSE</th>\n",
       "      <th>TSA_MSE</th>\n",
       "    </tr>\n",
       "  </thead>\n",
       "  <tbody>\n",
       "    <tr>\n",
       "      <th>0</th>\n",
       "      <td>55.003701</td>\n",
       "      <td>41.330663</td>\n",
       "      <td>25.633014</td>\n",
       "      <td>3348.437237</td>\n",
       "      <td>2046.573325</td>\n",
       "      <td>903.575419</td>\n",
       "    </tr>\n",
       "    <tr>\n",
       "      <th>1</th>\n",
       "      <td>20.994423</td>\n",
       "      <td>20.141394</td>\n",
       "      <td>43.037411</td>\n",
       "      <td>686.891310</td>\n",
       "      <td>637.125748</td>\n",
       "      <td>2193.539156</td>\n",
       "    </tr>\n",
       "    <tr>\n",
       "      <th>2</th>\n",
       "      <td>18.892121</td>\n",
       "      <td>18.763008</td>\n",
       "      <td>67.071232</td>\n",
       "      <td>495.884062</td>\n",
       "      <td>527.646323</td>\n",
       "      <td>4786.897733</td>\n",
       "    </tr>\n",
       "    <tr>\n",
       "      <th>3</th>\n",
       "      <td>15.944865</td>\n",
       "      <td>22.890114</td>\n",
       "      <td>84.638214</td>\n",
       "      <td>414.893877</td>\n",
       "      <td>620.474938</td>\n",
       "      <td>7267.140156</td>\n",
       "    </tr>\n",
       "    <tr>\n",
       "      <th>4</th>\n",
       "      <td>17.566938</td>\n",
       "      <td>16.346593</td>\n",
       "      <td>86.411588</td>\n",
       "      <td>452.585714</td>\n",
       "      <td>351.257351</td>\n",
       "      <td>7611.609747</td>\n",
       "    </tr>\n",
       "  </tbody>\n",
       "</table>\n",
       "</div>"
      ],
      "text/plain": [
       "   FunctionalFunctional_MAE   FTSA_MAE    TSA_MAE  FunctionalFunctional_MSE  \\\n",
       "0                 55.003701  41.330663  25.633014               3348.437237   \n",
       "1                 20.994423  20.141394  43.037411                686.891310   \n",
       "2                 18.892121  18.763008  67.071232                495.884062   \n",
       "3                 15.944865  22.890114  84.638214                414.893877   \n",
       "4                 17.566938  16.346593  86.411588                452.585714   \n",
       "\n",
       "      FTSA_MSE      TSA_MSE  \n",
       "0  2046.573325   903.575419  \n",
       "1   637.125748  2193.539156  \n",
       "2   527.646323  4786.897733  \n",
       "3   620.474938  7267.140156  \n",
       "4   351.257351  7611.609747  "
      ]
     },
     "execution_count": 1,
     "metadata": {},
     "output_type": "execute_result"
    }
   ],
   "source": [
    "import pandas as pd\n",
    "import matplotlib.pyplot as plt\n",
    "\n",
    "df = pd.read_csv('compiled_error_forecasts.csv')\n",
    "\n",
    "df.head()"
   ]
  },
  {
   "cell_type": "code",
   "execution_count": 2,
   "metadata": {},
   "outputs": [
    {
     "data": {
      "image/png": "[encoded data removed]",
      "text/plain": [
       "<Figure size 640x480 with 1 Axes>"
      ]
     },
     "metadata": {},
     "output_type": "display_data"
    }
   ],
   "source": [
    "# create boxplot for mae and mse\n",
    "df_MAE = df[['FunctionalFunctional_MAE', 'FTSA_MAE', 'TSA_MAE']]\n",
    "df_MAE.columns = ['Function to Function', 'FPCR', 'SARIMA']\n",
    "df_MAE.boxplot(column= ['Function to Function', 'FPCR', 'SARIMA'], grid=False)\n",
    "# plt.show()\n",
    "\n",
    "# save boxplot\n",
    "plt.savefig('boxplot_MAPE.png')"
   ]
  },
  {
   "cell_type": "code",
   "execution_count": 3,
   "metadata": {},
   "outputs": [],
   "source": [
    "# create boxplot for mae and mse\n",
    "df_MSE = df[['FunctionalFunctional_MSE', 'FTSA_MSE', 'TSA_MSE']]\n",
    "df_MSE.columns = ['Function to Function', 'FPCR', 'SARIMA']\n",
    "df_MSE.boxplot(column= ['Function to Function', 'FPCR', 'SARIMA'], grid=False)\n",
    "# plt.show()\n",
    "\n",
    "# save boxplot\n",
    "plt.savefig('boxplot_MSPE.png')"
   ]
  }
 ],
 "metadata": {
  "kernelspec": {
   "display_name": "Python 3",
   "language": "python",
   "name": "python3"
  },
  "language_info": {
   "codemirror_mode": {
    "name": "ipython",
    "version": 3
   },
   "file_extension": ".py",
   "mimetype": "text/x-python",
   "name": "python",
   "nbconvert_exporter": "python",
   "pygments_lexer": "ipython3",
   "version": "3.9.6"
  }
 },
 "nbformat": 4,
 "nbformat_minor": 2
}
